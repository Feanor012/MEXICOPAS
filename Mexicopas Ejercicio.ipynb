{
 "cells": [
  {
   "cell_type": "code",
   "execution_count": null,
   "metadata": {},
   "outputs": [],
   "source": [
    "import pandas as pd\n",
    "import numpy as np\n",
    "from sklearn.decomposition import PCA\n",
    "#sklearn es la libreria basica de machine learning en python, en este \n",
    "# ejemplo utilizaremos de el modulo de descomposición el algoritmo de PCA\n",
    "\n",
    "from PIL import Image, ImageOps\n",
    "#pillow es una libreria de procesamiento de imagenes en python\n",
    "\n",
    "np.random.seed(42)\n",
    "import matplotlib.pyplot as plt"
   ]
  },
  {
   "cell_type": "code",
   "execution_count": null,
   "metadata": {},
   "outputs": [],
   "source": [
    "matriz_alt= np.random.rand(60,10)-0.5\n",
    "matriz_alt[:3]\n",
    "#generamos un dataset aleatorio, llamaremos atributos a cada columna y entradas a cad renglón"
   ]
  },
  {
   "cell_type": "code",
   "execution_count": null,
   "metadata": {},
   "outputs": [],
   "source": [
    "#Crea una instancia del algoritmo PCA y reduce el dataset a solo 4 atributos, observa los primeros renglones \n",
    "#para comprobarlo, recuerda que se puede hacer en 2 pasos o en uno, utilizando los metodos .fit(), .transform()\n",
    "# y .fit_transform"
   ]
  },
  {
   "cell_type": "code",
   "execution_count": null,
   "metadata": {},
   "outputs": [],
   "source": [
    "pca.explained_variance_ratio_ #el metodo nos muestra cuanta varianza captura cada eigenvector de la descomposición"
   ]
  },
  {
   "cell_type": "code",
   "execution_count": null,
   "metadata": {},
   "outputs": [],
   "source": [
    "#utilizando la funcion de np.cumsum y el metodo anterior se puede obtener el numero de componentes\n",
    "# necesarios para mantener un minimo de información que queramos\n",
    "pca2=PCA()\n",
    "pca2.fit(matriz_alt)\n",
    "cumsum=np.cumsum(pca2.explained_variance_ratio_)\n",
    "d=np.argmax(cumsum>=0.75)+1\n",
    "d\n",
    "\n",
    "#por que es que esto funciona, recuerda que el 1 es simplemente por que python cunta desde 0"
   ]
  },
  {
   "cell_type": "code",
   "execution_count": null,
   "metadata": {},
   "outputs": [],
   "source": [
    "#Carga una imagen , y cambiala a un array de numpy, checa cuantas componentes tiene la imagen original\n",
    "\n",
    "#haz varias intancias del algoritmo PCA, tratando solo con algunas componentes, un minimo de varianza\n",
    "\n",
    "\n",
    "#descomprime la imagen y observa los cambios que tiene dependiendo de las componenetes a las que se redujo \n",
    "\n",
    "img=Image.open(r) #la r para crear un raw string y evitar algunos problemas  de formato"
   ]
  },
  {
   "cell_type": "code",
   "execution_count": null,
   "metadata": {},
   "outputs": [],
   "source": [
    "# Puedes utilizar el sig codigo para graficar las imagenes, tanto la original, como las comprimidas\n",
    "fig, ax=plt.subplots()\n",
    "ax.imshow()\n",
    "plt.show()"
   ]
  },
  {
   "cell_type": "code",
   "execution_count": null,
   "metadata": {},
   "outputs": [],
   "source": [
    "#para recuperar la imagen a partir del array reducido utilza el metodo .inverse_transform"
   ]
  }
 ],
 "metadata": {
  "kernelspec": {
   "display_name": "Python 3",
   "language": "python",
   "name": "python3"
  },
  "language_info": {
   "codemirror_mode": {
    "name": "ipython",
    "version": 3
   },
   "file_extension": ".py",
   "mimetype": "text/x-python",
   "name": "python",
   "nbconvert_exporter": "python",
   "pygments_lexer": "ipython3",
   "version": "3.7.3"
  }
 },
 "nbformat": 4,
 "nbformat_minor": 2
}
